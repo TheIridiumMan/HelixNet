{
 "cells": [
  {
   "cell_type": "code",
   "execution_count": 15,
   "metadata": {},
   "outputs": [
    {
     "ename": "ImportError",
     "evalue": "attempted relative import with no known parent package",
     "output_type": "error",
     "traceback": [
      "\u001b[1;31m---------------------------------------------------------------------------\u001b[0m",
      "\u001b[1;31mImportError\u001b[0m                               Traceback (most recent call last)",
      "Cell \u001b[1;32mIn[15], line 12\u001b[0m\n\u001b[0;32m      9\u001b[0m \u001b[38;5;28;01mfrom\u001b[39;00m \u001b[38;5;21;01mrich\u001b[39;00m\u001b[38;5;21;01m.\u001b[39;00m\u001b[38;5;21;01mprogress\u001b[39;00m \u001b[38;5;28;01mimport\u001b[39;00m Progress, TextColumn, BarColumn, TimeElapsedColumn, track\n\u001b[0;32m     10\u001b[0m \u001b[38;5;28;01mfrom\u001b[39;00m \u001b[38;5;21;01mrich\u001b[39;00m \u001b[38;5;28;01mimport\u001b[39;00m \u001b[38;5;28mprint\u001b[39m\n\u001b[1;32m---> 12\u001b[0m \u001b[38;5;28;01mfrom\u001b[39;00m \u001b[38;5;21;01m.\u001b[39;00m\u001b[38;5;21;01m.\u001b[39;00m\u001b[38;5;21;01msrc\u001b[39;00m \u001b[38;5;28;01mimport\u001b[39;00m Layers\n\u001b[0;32m     13\u001b[0m \u001b[38;5;28;01mfrom\u001b[39;00m \u001b[38;5;21;01m.\u001b[39;00m\u001b[38;5;21;01m.\u001b[39;00m\u001b[38;5;21;01msrc\u001b[39;00m \u001b[38;5;28;01mimport\u001b[39;00m optimisers\n\u001b[0;32m     14\u001b[0m \u001b[38;5;28;01mfrom\u001b[39;00m \u001b[38;5;21;01m.\u001b[39;00m\u001b[38;5;21;01m.\u001b[39;00m\u001b[38;5;21;01msrc\u001b[39;00m \u001b[38;5;28;01mimport\u001b[39;00m activations\n",
      "\u001b[1;31mImportError\u001b[0m: attempted relative import with no known parent package"
     ]
    }
   ],
   "source": [
    "import numpy as np\n",
    "import mygrad as mg\n",
    "import pandas as pd\n",
    "import matplotlib.pyplot as plt\n",
    "from sklearn.preprocessing import OneHotEncoder\n",
    "from sklearn.model_selection import train_test_split\n",
    "from mygrad.computational_graph import build_graph\n",
    "\n",
    "from rich.progress import Progress, TextColumn, BarColumn, TimeElapsedColumn, track\n",
    "from rich import print\n",
    "\n",
    "import Layers\n",
    "import optimisers\n",
    "import activations\n",
    "import models\n"
   ]
  },
  {
   "cell_type": "code",
   "execution_count": 3,
   "metadata": {},
   "outputs": [
    {
     "data": {
      "text/html": [
       "<pre style=\"white-space:pre;overflow-x:auto;line-height:normal;font-family:Menlo,'DejaVu Sans Mono',consolas,'Courier New',monospace\"><span style=\"color: #808000; text-decoration-color: #808000; font-weight: bold\">Libraries are imported loading data</span>\n",
       "</pre>\n"
      ],
      "text/plain": [
       "\u001b[1;33mLibraries are imported loading data\u001b[0m\n"
      ]
     },
     "metadata": {},
     "output_type": "display_data"
    },
    {
     "data": {
      "text/html": [
       "<pre style=\"white-space:pre;overflow-x:auto;line-height:normal;font-family:Menlo,'DejaVu Sans Mono',consolas,'Courier New',monospace\"><span style=\"color: #808000; text-decoration-color: #808000; font-weight: bold\">Data loaded</span>\n",
       "</pre>\n"
      ],
      "text/plain": [
       "\u001b[1;33mData loaded\u001b[0m\n"
      ]
     },
     "metadata": {},
     "output_type": "display_data"
    },
    {
     "ename": "NameError",
     "evalue": "name 'Layers' is not defined",
     "output_type": "error",
     "traceback": [
      "\u001b[1;31m---------------------------------------------------------------------------\u001b[0m",
      "\u001b[1;31mNameError\u001b[0m                                 Traceback (most recent call last)",
      "Cell \u001b[1;32mIn[3], line 12\u001b[0m\n\u001b[0;32m      4\u001b[0m train, test \u001b[38;5;241m=\u001b[39m train_test_split(df, test_size\u001b[38;5;241m=\u001b[39m\u001b[38;5;241m0.2\u001b[39m)\n\u001b[0;32m      6\u001b[0m \u001b[38;5;66;03m# OneHotEncoder is not needed if we use softmax_crossentropy correctly\u001b[39;00m\n\u001b[0;32m      7\u001b[0m \u001b[38;5;66;03m# encoder = OneHotEncoder(sparse_output=False)\u001b[39;00m\n\u001b[0;32m      8\u001b[0m \u001b[38;5;66;03m# encoder.fit(df[\"label\"].values.reshape(-1, 1))\u001b[39;00m\n\u001b[0;32m      9\u001b[0m \n\u001b[0;32m     10\u001b[0m \u001b[38;5;66;03m# FIX 1: The final layer should have `activation=None` because softmax_crossentropy\u001b[39;00m\n\u001b[0;32m     11\u001b[0m \u001b[38;5;66;03m# applies the softmax internally for better numerical stability.\u001b[39;00m\n\u001b[1;32m---> 12\u001b[0m lr1 \u001b[38;5;241m=\u001b[39m \u001b[43mLayers\u001b[49m\u001b[38;5;241m.\u001b[39mDense(\u001b[38;5;241m784\u001b[39m, \u001b[38;5;241m128\u001b[39m, activation\u001b[38;5;241m=\u001b[39mactivations\u001b[38;5;241m.\u001b[39mReLU, use_bias\u001b[38;5;241m=\u001b[39m\u001b[38;5;28;01mTrue\u001b[39;00m)\n\u001b[0;32m     13\u001b[0m lr2 \u001b[38;5;241m=\u001b[39m Layers\u001b[38;5;241m.\u001b[39mDense(\u001b[38;5;241m128\u001b[39m, \u001b[38;5;241m10\u001b[39m, activation\u001b[38;5;241m=\u001b[39m(\u001b[38;5;28;01mlambda\u001b[39;00m x: x), use_bias\u001b[38;5;241m=\u001b[39m\u001b[38;5;28;01mTrue\u001b[39;00m) \u001b[38;5;66;03m# Changed from 100 -> 10, no activation\u001b[39;00m\n\u001b[0;32m     14\u001b[0m model \u001b[38;5;241m=\u001b[39m models\u001b[38;5;241m.\u001b[39mSequental([lr1, lr2]) \u001b[38;5;66;03m# Simplified model for faster demonstration\u001b[39;00m\n",
      "\u001b[1;31mNameError\u001b[0m: name 'Layers' is not defined"
     ]
    }
   ],
   "source": [
    "\n",
    "print(\"[bold yellow]Libraries are imported loading data[/bold yellow]\")\n",
    "df = pd.read_csv(\"K:/Redmi 9e/Data Analysis/MNIST Digits/train.csv\")\n",
    "print(\"[bold yellow]Data loaded[/bold yellow]\")\n",
    "train, test = train_test_split(df, test_size=0.2)\n",
    "\n",
    "# OneHotEncoder is not needed if we use softmax_crossentropy correctly\n",
    "# encoder = OneHotEncoder(sparse_output=False)\n",
    "# encoder.fit(df[\"label\"].values.reshape(-1, 1))\n",
    "\n",
    "# FIX 1: The final layer should have `activation=None` because softmax_crossentropy\n",
    "# applies the softmax internally for better numerical stability.\n",
    "lr1 = Layers.Dense(784, 128, activation=activations.ReLU, use_bias=True)\n",
    "lr2 = Layers.Dense(128, 10, activation=(lambda x: x), use_bias=True) # Changed from 100 -> 10, no activation\n",
    "model = models.Sequental([lr1, lr2]) # Simplified model for faster demonstration\n",
    "\n",
    "optim = optimisers.SGD(0.1, 0.01)\n",
    "print(f\"[bold yellow]Layers initiated and connected successfully[/]\")\n",
    "\n",
    "def batch_gen(df, batch_size):\n",
    "    for start in range(0, len(df), batch_size):\n",
    "        end = start + batch_size\n",
    "        yield df.iloc[start:end]\n"
   ]
  },
  {
   "cell_type": "code",
   "execution_count": null,
   "metadata": {},
   "outputs": [
    {
     "data": {
      "text/html": [
       "<pre style=\"white-space:pre;overflow-x:auto;line-height:normal;font-family:Menlo,'DejaVu Sans Mono',consolas,'Courier New',monospace\"><span style=\"color: #800000; text-decoration-color: #800000; background-color: #808000; font-weight: bold\">The Training has started</span>\n",
       "</pre>\n"
      ],
      "text/plain": [
       "\u001b[1;31;43mThe Training has started\u001b[0m\n"
      ]
     },
     "metadata": {},
     "output_type": "display_data"
    },
    {
     "data": {
      "application/vnd.jupyter.widget-view+json": {
       "model_id": "91062299d46c4416a8b4a2879baa33eb",
       "version_major": 2,
       "version_minor": 0
      },
      "text/plain": [
       "Output()"
      ]
     },
     "metadata": {},
     "output_type": "display_data"
    },
    {
     "data": {
      "text/html": [
       "<pre style=\"white-space:pre;overflow-x:auto;line-height:normal;font-family:Menlo,'DejaVu Sans Mono',consolas,'Courier New',monospace\"></pre>\n"
      ],
      "text/plain": []
     },
     "metadata": {},
     "output_type": "display_data"
    },
    {
     "data": {
      "text/html": [
       "<pre style=\"white-space:pre;overflow-x:auto;line-height:normal;font-family:Menlo,'DejaVu Sans Mono',consolas,'Courier New',monospace\">\n",
       "</pre>\n"
      ],
      "text/plain": [
       "\n"
      ]
     },
     "metadata": {},
     "output_type": "display_data"
    },
    {
     "data": {
      "text/html": [
       "<pre style=\"white-space:pre;overflow-x:auto;line-height:normal;font-family:Menlo,'DejaVu Sans Mono',consolas,'Courier New',monospace\"><span style=\"color: #008000; text-decoration-color: #008000; font-weight: bold\">Epoch </span><span style=\"color: #008000; text-decoration-color: #008000; font-weight: bold\">1</span><span style=\"color: #008000; text-decoration-color: #008000; font-weight: bold\"> trained successfully with final batch loss </span><span style=\"color: #c0c0c0; text-decoration-color: #c0c0c0; font-weight: bold\">17.7234</span>\n",
       "</pre>\n"
      ],
      "text/plain": [
       "\u001b[1;32mEpoch \u001b[0m\u001b[1;32m1\u001b[0m\u001b[1;32m trained successfully with final batch loss \u001b[0m\u001b[1;37m17.7234\u001b[0m\n"
      ]
     },
     "metadata": {},
     "output_type": "display_data"
    },
    {
     "data": {
      "application/vnd.jupyter.widget-view+json": {
       "model_id": "8c61daa2e61b4b90aa704f58219fd2c0",
       "version_major": 2,
       "version_minor": 0
      },
      "text/plain": [
       "Output()"
      ]
     },
     "metadata": {},
     "output_type": "display_data"
    },
    {
     "data": {
      "text/html": [
       "<pre style=\"white-space:pre;overflow-x:auto;line-height:normal;font-family:Menlo,'DejaVu Sans Mono',consolas,'Courier New',monospace\"></pre>\n"
      ],
      "text/plain": []
     },
     "metadata": {},
     "output_type": "display_data"
    },
    {
     "data": {
      "text/html": [
       "<pre style=\"white-space:pre;overflow-x:auto;line-height:normal;font-family:Menlo,'DejaVu Sans Mono',consolas,'Courier New',monospace\">\n",
       "</pre>\n"
      ],
      "text/plain": [
       "\n"
      ]
     },
     "metadata": {},
     "output_type": "display_data"
    },
    {
     "data": {
      "text/html": [
       "<pre style=\"white-space:pre;overflow-x:auto;line-height:normal;font-family:Menlo,'DejaVu Sans Mono',consolas,'Courier New',monospace\"><span style=\"color: #008000; text-decoration-color: #008000; font-weight: bold\">Epoch </span><span style=\"color: #008000; text-decoration-color: #008000; font-weight: bold\">2</span><span style=\"color: #008000; text-decoration-color: #008000; font-weight: bold\"> trained successfully with final batch loss </span><span style=\"color: #c0c0c0; text-decoration-color: #c0c0c0; font-weight: bold\">4.0682</span>\n",
       "</pre>\n"
      ],
      "text/plain": [
       "\u001b[1;32mEpoch \u001b[0m\u001b[1;32m2\u001b[0m\u001b[1;32m trained successfully with final batch loss \u001b[0m\u001b[1;37m4.0682\u001b[0m\n"
      ]
     },
     "metadata": {},
     "output_type": "display_data"
    },
    {
     "data": {
      "application/vnd.jupyter.widget-view+json": {
       "model_id": "d3ffbcc80400483ca340199dff6b3d8d",
       "version_major": 2,
       "version_minor": 0
      },
      "text/plain": [
       "Output()"
      ]
     },
     "metadata": {},
     "output_type": "display_data"
    },
    {
     "data": {
      "text/html": [
       "<pre style=\"white-space:pre;overflow-x:auto;line-height:normal;font-family:Menlo,'DejaVu Sans Mono',consolas,'Courier New',monospace\"></pre>\n"
      ],
      "text/plain": []
     },
     "metadata": {},
     "output_type": "display_data"
    },
    {
     "data": {
      "text/html": [
       "<pre style=\"white-space:pre;overflow-x:auto;line-height:normal;font-family:Menlo,'DejaVu Sans Mono',consolas,'Courier New',monospace\">\n",
       "</pre>\n"
      ],
      "text/plain": [
       "\n"
      ]
     },
     "metadata": {},
     "output_type": "display_data"
    },
    {
     "data": {
      "text/html": [
       "<pre style=\"white-space:pre;overflow-x:auto;line-height:normal;font-family:Menlo,'DejaVu Sans Mono',consolas,'Courier New',monospace\"><span style=\"color: #008000; text-decoration-color: #008000; font-weight: bold\">Epoch </span><span style=\"color: #008000; text-decoration-color: #008000; font-weight: bold\">3</span><span style=\"color: #008000; text-decoration-color: #008000; font-weight: bold\"> trained successfully with final batch loss </span><span style=\"color: #c0c0c0; text-decoration-color: #c0c0c0; font-weight: bold\">3.0904</span>\n",
       "</pre>\n"
      ],
      "text/plain": [
       "\u001b[1;32mEpoch \u001b[0m\u001b[1;32m3\u001b[0m\u001b[1;32m trained successfully with final batch loss \u001b[0m\u001b[1;37m3.0904\u001b[0m\n"
      ]
     },
     "metadata": {},
     "output_type": "display_data"
    },
    {
     "data": {
      "application/vnd.jupyter.widget-view+json": {
       "model_id": "d338f7c42d074096a1f1d1a697e210c9",
       "version_major": 2,
       "version_minor": 0
      },
      "text/plain": [
       "Output()"
      ]
     },
     "metadata": {},
     "output_type": "display_data"
    },
    {
     "data": {
      "text/html": [
       "<pre style=\"white-space:pre;overflow-x:auto;line-height:normal;font-family:Menlo,'DejaVu Sans Mono',consolas,'Courier New',monospace\"></pre>\n"
      ],
      "text/plain": []
     },
     "metadata": {},
     "output_type": "display_data"
    },
    {
     "data": {
      "text/html": [
       "<pre style=\"white-space:pre;overflow-x:auto;line-height:normal;font-family:Menlo,'DejaVu Sans Mono',consolas,'Courier New',monospace\">\n",
       "</pre>\n"
      ],
      "text/plain": [
       "\n"
      ]
     },
     "metadata": {},
     "output_type": "display_data"
    },
    {
     "data": {
      "text/html": [
       "<pre style=\"white-space:pre;overflow-x:auto;line-height:normal;font-family:Menlo,'DejaVu Sans Mono',consolas,'Courier New',monospace\"><span style=\"color: #008000; text-decoration-color: #008000; font-weight: bold\">Epoch </span><span style=\"color: #008000; text-decoration-color: #008000; font-weight: bold\">4</span><span style=\"color: #008000; text-decoration-color: #008000; font-weight: bold\"> trained successfully with final batch loss </span><span style=\"color: #c0c0c0; text-decoration-color: #c0c0c0; font-weight: bold\">3.4373</span>\n",
       "</pre>\n"
      ],
      "text/plain": [
       "\u001b[1;32mEpoch \u001b[0m\u001b[1;32m4\u001b[0m\u001b[1;32m trained successfully with final batch loss \u001b[0m\u001b[1;37m3.4373\u001b[0m\n"
      ]
     },
     "metadata": {},
     "output_type": "display_data"
    },
    {
     "data": {
      "application/vnd.jupyter.widget-view+json": {
       "model_id": "add85d51624843b18f388848eca9ce6f",
       "version_major": 2,
       "version_minor": 0
      },
      "text/plain": [
       "Output()"
      ]
     },
     "metadata": {},
     "output_type": "display_data"
    },
    {
     "data": {
      "text/html": [
       "<pre style=\"white-space:pre;overflow-x:auto;line-height:normal;font-family:Menlo,'DejaVu Sans Mono',consolas,'Courier New',monospace\"></pre>\n"
      ],
      "text/plain": []
     },
     "metadata": {},
     "output_type": "display_data"
    },
    {
     "data": {
      "text/html": [
       "<pre style=\"white-space:pre;overflow-x:auto;line-height:normal;font-family:Menlo,'DejaVu Sans Mono',consolas,'Courier New',monospace\">\n",
       "</pre>\n"
      ],
      "text/plain": [
       "\n"
      ]
     },
     "metadata": {},
     "output_type": "display_data"
    },
    {
     "data": {
      "text/html": [
       "<pre style=\"white-space:pre;overflow-x:auto;line-height:normal;font-family:Menlo,'DejaVu Sans Mono',consolas,'Courier New',monospace\"><span style=\"color: #008000; text-decoration-color: #008000; font-weight: bold\">Epoch </span><span style=\"color: #008000; text-decoration-color: #008000; font-weight: bold\">5</span><span style=\"color: #008000; text-decoration-color: #008000; font-weight: bold\"> trained successfully with final batch loss </span><span style=\"color: #c0c0c0; text-decoration-color: #c0c0c0; font-weight: bold\">2.0797</span>\n",
       "</pre>\n"
      ],
      "text/plain": [
       "\u001b[1;32mEpoch \u001b[0m\u001b[1;32m5\u001b[0m\u001b[1;32m trained successfully with final batch loss \u001b[0m\u001b[1;37m2.0797\u001b[0m\n"
      ]
     },
     "metadata": {},
     "output_type": "display_data"
    }
   ],
   "source": [
    "\n",
    "print(\"[bold red on yellow]The Training has started[/]\")\n",
    "\n",
    "loss_history = []\n",
    "batch_len = 64\n",
    "epochs = 5\n",
    "\n",
    "for i in range(epochs):\n",
    "    # FIX 2: Correct total for the progress bar\n",
    "    for batch in track(batch_gen(train, batch_len), description=f\"Training Epoch {i+1}/{epochs}...\",\n",
    "                       total=len(train)//batch_len):\n",
    "        x = mg.tensor(batch.drop(columns=\"label\").values.astype(np.float32) / 255)\n",
    "        \n",
    "        # FIX 3: softmax_crossentropy expects integer class labels, not one-hot encoded vectors.\n",
    "        y_true = batch[\"label\"].values\n",
    "        \n",
    "        # Forward pass produces logits (raw scores)\n",
    "        logits = model.forward(x)\n",
    "        \n",
    "        # The loss function takes logits and integer labels\n",
    "        loss_value = mg.nnet.losses.softmax_crossentropy(logits, y_true)\n",
    "        \n",
    "        loss_history.append(loss_value.data.item())\n",
    "        \n",
    "        loss_value.backward()\n",
    "        optim.optimise(model)\n",
    "        # Clear grads for the next iteration\n",
    "        model.null_grads() \n",
    "\n",
    "    # Evaluate loss on the last batch of the epoch\n",
    "    print(f\"[bold green]Epoch {i+1} trained successfully with final batch loss [/bold green]\"\n",
    "          f\"[bold white]{loss_value.data.item():.4f}[/bold white]\")\n"
   ]
  },
  {
   "cell_type": "code",
   "execution_count": null,
   "metadata": {},
   "outputs": [
    {
     "data": {
      "text/html": [
       "<pre style=\"white-space:pre;overflow-x:auto;line-height:normal;font-family:Menlo,'DejaVu Sans Mono',consolas,'Courier New',monospace\"><span style=\"color: #af00ff; text-decoration-color: #af00ff; font-weight: bold\"> Final Test Accuracy: </span><span style=\"color: #af00ff; text-decoration-color: #af00ff; font-weight: bold\">85.55</span><span style=\"color: #af00ff; text-decoration-color: #af00ff; font-weight: bold\">% 🎉</span>\n",
       "</pre>\n"
      ],
      "text/plain": [
       "\u001b[1;38;5;129m Final Test Accuracy: \u001b[0m\u001b[1;38;5;129m85.55\u001b[0m\u001b[1;38;5;129m% 🎉\u001b[0m\n"
      ]
     },
     "metadata": {},
     "output_type": "display_data"
    },
    {
     "data": {
      "image/png": "[encoded data removed]",
      "text/plain": [
       "<Figure size 640x480 with 1 Axes>"
      ]
     },
     "metadata": {},
     "output_type": "display_data"
    }
   ],
   "source": [
    "\n",
    "# After training, get predictions on the test set\n",
    "test_x = mg.tensor(test.drop(columns=\"label\").values.astype(np.float32) / 255)\n",
    "# Pass through the model to get logits\n",
    "test_logits = model.forward(test_x)\n",
    "# The predicted class is the index of the highest score (argmax)\n",
    "predictions = np.argmax(test_logits.data, axis=1)\n",
    "\n",
    "accuracy = (test[\"label\"].values == predictions).mean()\n",
    "\n",
    "print(f\"[bold purple] Final Test Accuracy: {accuracy:.2%} :tada:[/]\")\n",
    "\n",
    "plt.plot(loss_history)\n",
    "plt.title(\"Training Loss Over Time\")\n",
    "plt.xlabel(\"Training Step\")\n",
    "plt.ylabel(\"Softmax Cross-Entropy Loss\")\n",
    "plt.show()\n",
    "# Final Test Accuracy: 85.55% 🎉"
   ]
  },
  {
   "cell_type": "code",
   "execution_count": null,
   "metadata": {},
   "outputs": [],
   "source": [
    "def sample_and_test(model: models.Sequental, data: pd.DataFrame):\n",
    "    sample = data.sample(1, replace=True)\n",
    "    prediction = model.forward(sample.drop(columns=\"label\"))\n",
    "    prediction = activations.softmax(prediction)\n",
    "    fig, ax = plt.subplots(1,2)\n",
    "    ax[0].imshow(sample.drop(columns=\"label\").values.reshape(28, 28))\n",
    "    ax[0].grid(False)\n",
    "\n",
    "    ax[1].grid(False)\n",
    "    ax[1].barh(np.array(list(range(0, 10))), prediction.flatten())"
   ]
  },
  {
   "cell_type": "code",
   "execution_count": null,
   "metadata": {},
   "outputs": [
    {
     "data": {
      "image/png": "[encoded data removed]",
      "text/plain": [
       "<Figure size 640x480 with 2 Axes>"
      ]
     },
     "metadata": {},
     "output_type": "display_data"
    }
   ],
   "source": [
    "sample_and_test(model, test)"
   ]
  },
  {
   "cell_type": "code",
   "execution_count": null,
   "metadata": {},
   "outputs": [],
   "source": []
  }
 ],
 "metadata": {
  "kernelspec": {
   "display_name": "Python 3.9.18 32-bit",
   "language": "python",
   "name": "python3"
  },
  "language_info": {
   "codemirror_mode": {
    "name": "ipython",
    "version": 3
   },
   "file_extension": ".py",
   "mimetype": "text/x-python",
   "name": "python",
   "nbconvert_exporter": "python",
   "pygments_lexer": "ipython3",
   "version": "3.9.18"
  },
  "orig_nbformat": 4,
  "vscode": {
   "interpreter": {
    "hash": "47a9afbf81bafe4320ae203545f745921cec405b7c0818752424bff5f106a7ee"
   }
  }
 },
 "nbformat": 4,
 "nbformat_minor": 2
}
